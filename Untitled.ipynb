{
 "cells": [
  {
   "cell_type": "code",
   "execution_count": 1,
   "id": "9c8fa5bb-3b4b-4211-a7a7-9b6c147803a3",
   "metadata": {},
   "outputs": [],
   "source": [
    "import pandas as pd\n",
    "import numpy as np\n",
    "import kagglehub\n"
   ]
  },
  {
   "cell_type": "code",
   "execution_count": 2,
   "id": "0e0cf486-0871-4e69-a613-ea2151ba35d7",
   "metadata": {},
   "outputs": [
    {
     "name": "stdout",
     "output_type": "stream",
     "text": [
      "Warning: Looks like you're using an outdated `kagglehub` version (installed: 0.3.12), please consider upgrading to the latest version (0.3.13).\n",
      "Downloading from https://www.kaggle.com/api/v1/datasets/download/walekhwatlphilip/intro-to-data-cleaning-eda-and-machine-learning?dataset_version_number=346...\n"
     ]
    },
    {
     "name": "stderr",
     "output_type": "stream",
     "text": [
      "100%|██████████████████████████████████████| 9.73k/9.73k [00:00<00:00, 5.13MB/s]"
     ]
    },
    {
     "name": "stdout",
     "output_type": "stream",
     "text": [
      "Extracting files...\n"
     ]
    },
    {
     "name": "stderr",
     "output_type": "stream",
     "text": [
      "\n"
     ]
    }
   ],
   "source": [
    "path = kagglehub.dataset_download(\"walekhwatlphilip/intro-to-data-cleaning-eda-and-machine-learning\")"
   ]
  },
  {
   "cell_type": "code",
   "execution_count": 5,
   "id": "e43593ed-53c6-426d-9f17-ae48f8f03d83",
   "metadata": {},
   "outputs": [],
   "source": [
    "data = pd.read_csv(path+'/bi.csv', encoding='latin1')"
   ]
  },
  {
   "cell_type": "code",
   "execution_count": 6,
   "id": "5c161169-73cc-4625-9c1a-7cb9e1d28b87",
   "metadata": {},
   "outputs": [],
   "source": [
    "data = data.rename(columns = {'fNAME':'first_name',\n",
    "                       'lNAME':'second_name',\n",
    "                       'Age':'age',\n",
    "                       'country':'country_born',\n",
    "                       'entryEXAM':'result_exam',\n",
    "                       'prevEducation':'education',\n",
    "                       'studyHOURS':'study_hours',\n",
    "                       'Python':'python_score',\n",
    "                       'DB':'DB_score'})"
   ]
  },
  {
   "cell_type": "code",
   "execution_count": 7,
   "id": "5c56731f-3b40-475f-b20a-cd438535bdb7",
   "metadata": {},
   "outputs": [],
   "source": [
    "data['gender'] = data[\"gender\"].apply(lambda x: 'F' if x.startswith('F') or x.startswith('f') else 'M')"
   ]
  },
  {
   "cell_type": "code",
   "execution_count": 8,
   "id": "90613554-cf0b-4579-8c8d-51ee6b73dc7d",
   "metadata": {},
   "outputs": [],
   "source": [
    "data = data.dropna()\n",
    "data = data.drop_duplicates()"
   ]
  },
  {
   "cell_type": "code",
   "execution_count": 9,
   "id": "a07e7a86-384c-4343-9ef4-564cb40bdd06",
   "metadata": {},
   "outputs": [
    {
     "data": {
      "text/plain": [
       "array(['Masters', 'Diploma', 'HighSchool', 'High School', 'Bachelors',\n",
       "       'Barrrchelors', 'diploma', 'DIPLOMA', 'Diplomaaa', 'Doctorate'],\n",
       "      dtype=object)"
      ]
     },
     "execution_count": 9,
     "metadata": {},
     "output_type": "execute_result"
    }
   ],
   "source": [
    "data.education.unique()"
   ]
  },
  {
   "cell_type": "code",
   "execution_count": 10,
   "id": "50f3c55e-0270-4d30-94e0-43462b401bf4",
   "metadata": {},
   "outputs": [
    {
     "data": {
      "text/plain": [
       "array(['Norway', 'Kenya', 'Uganda', 'South Africa', 'Norge', 'norway',\n",
       "       'Denmark', 'Netherlands', 'Italy', 'Spain', 'UK', 'Somali',\n",
       "       'Nigeria', 'Germany', 'France'], dtype=object)"
      ]
     },
     "execution_count": 10,
     "metadata": {},
     "output_type": "execute_result"
    }
   ],
   "source": [
    "data.country_born.unique()"
   ]
  },
  {
   "cell_type": "code",
   "execution_count": 11,
   "id": "85071b28-675b-4f8c-aea3-d24bcfa695c3",
   "metadata": {},
   "outputs": [
    {
     "data": {
      "text/html": [
       "<div>\n",
       "<style scoped>\n",
       "    .dataframe tbody tr th:only-of-type {\n",
       "        vertical-align: middle;\n",
       "    }\n",
       "\n",
       "    .dataframe tbody tr th {\n",
       "        vertical-align: top;\n",
       "    }\n",
       "\n",
       "    .dataframe thead th {\n",
       "        text-align: right;\n",
       "    }\n",
       "</style>\n",
       "<table border=\"1\" class=\"dataframe\">\n",
       "  <thead>\n",
       "    <tr style=\"text-align: right;\">\n",
       "      <th></th>\n",
       "      <th>first_name</th>\n",
       "      <th>second_name</th>\n",
       "      <th>age</th>\n",
       "      <th>gender</th>\n",
       "      <th>country_born</th>\n",
       "      <th>residence</th>\n",
       "      <th>result_exam</th>\n",
       "      <th>education</th>\n",
       "      <th>study_hours</th>\n",
       "      <th>python_score</th>\n",
       "      <th>DB_score</th>\n",
       "    </tr>\n",
       "  </thead>\n",
       "  <tbody>\n",
       "    <tr>\n",
       "      <th>0</th>\n",
       "      <td>Christina</td>\n",
       "      <td>Binger</td>\n",
       "      <td>44</td>\n",
       "      <td>F</td>\n",
       "      <td>Norway</td>\n",
       "      <td>Private</td>\n",
       "      <td>72</td>\n",
       "      <td>Masters</td>\n",
       "      <td>158</td>\n",
       "      <td>59.0</td>\n",
       "      <td>55</td>\n",
       "    </tr>\n",
       "    <tr>\n",
       "      <th>1</th>\n",
       "      <td>Alex</td>\n",
       "      <td>Walekhwa</td>\n",
       "      <td>60</td>\n",
       "      <td>M</td>\n",
       "      <td>Kenya</td>\n",
       "      <td>Private</td>\n",
       "      <td>79</td>\n",
       "      <td>Diploma</td>\n",
       "      <td>150</td>\n",
       "      <td>60.0</td>\n",
       "      <td>75</td>\n",
       "    </tr>\n",
       "    <tr>\n",
       "      <th>2</th>\n",
       "      <td>Philip</td>\n",
       "      <td>Leo</td>\n",
       "      <td>25</td>\n",
       "      <td>M</td>\n",
       "      <td>Uganda</td>\n",
       "      <td>Sognsvann</td>\n",
       "      <td>55</td>\n",
       "      <td>HighSchool</td>\n",
       "      <td>130</td>\n",
       "      <td>74.0</td>\n",
       "      <td>50</td>\n",
       "    </tr>\n",
       "    <tr>\n",
       "      <th>4</th>\n",
       "      <td>Maria</td>\n",
       "      <td>Kedibone</td>\n",
       "      <td>23</td>\n",
       "      <td>F</td>\n",
       "      <td>South Africa</td>\n",
       "      <td>Sognsvann</td>\n",
       "      <td>65</td>\n",
       "      <td>High School</td>\n",
       "      <td>122</td>\n",
       "      <td>91.0</td>\n",
       "      <td>80</td>\n",
       "    </tr>\n",
       "    <tr>\n",
       "      <th>5</th>\n",
       "      <td>Hannah</td>\n",
       "      <td>Hansen</td>\n",
       "      <td>25</td>\n",
       "      <td>F</td>\n",
       "      <td>Norge</td>\n",
       "      <td>BI Residence</td>\n",
       "      <td>66</td>\n",
       "      <td>High School</td>\n",
       "      <td>130</td>\n",
       "      <td>88.0</td>\n",
       "      <td>59</td>\n",
       "    </tr>\n",
       "    <tr>\n",
       "      <th>...</th>\n",
       "      <td>...</td>\n",
       "      <td>...</td>\n",
       "      <td>...</td>\n",
       "      <td>...</td>\n",
       "      <td>...</td>\n",
       "      <td>...</td>\n",
       "      <td>...</td>\n",
       "      <td>...</td>\n",
       "      <td>...</td>\n",
       "      <td>...</td>\n",
       "      <td>...</td>\n",
       "    </tr>\n",
       "    <tr>\n",
       "      <th>72</th>\n",
       "      <td>Clara</td>\n",
       "      <td>Bernard</td>\n",
       "      <td>43</td>\n",
       "      <td>F</td>\n",
       "      <td>France</td>\n",
       "      <td>Private</td>\n",
       "      <td>80</td>\n",
       "      <td>Bachelors</td>\n",
       "      <td>150</td>\n",
       "      <td>75.0</td>\n",
       "      <td>43</td>\n",
       "    </tr>\n",
       "    <tr>\n",
       "      <th>73</th>\n",
       "      <td>Julian</td>\n",
       "      <td>Nielsen</td>\n",
       "      <td>31</td>\n",
       "      <td>M</td>\n",
       "      <td>Denmark</td>\n",
       "      <td>Sognsvann</td>\n",
       "      <td>90</td>\n",
       "      <td>Masters</td>\n",
       "      <td>158</td>\n",
       "      <td>84.0</td>\n",
       "      <td>83</td>\n",
       "    </tr>\n",
       "    <tr>\n",
       "      <th>74</th>\n",
       "      <td>Sophie</td>\n",
       "      <td>Brown</td>\n",
       "      <td>33</td>\n",
       "      <td>F</td>\n",
       "      <td>UK</td>\n",
       "      <td>Sognsvann</td>\n",
       "      <td>96</td>\n",
       "      <td>Masters</td>\n",
       "      <td>158</td>\n",
       "      <td>85.0</td>\n",
       "      <td>90</td>\n",
       "    </tr>\n",
       "    <tr>\n",
       "      <th>75</th>\n",
       "      <td>Leon</td>\n",
       "      <td>Bauer</td>\n",
       "      <td>35</td>\n",
       "      <td>M</td>\n",
       "      <td>Germany</td>\n",
       "      <td>Sognsvann</td>\n",
       "      <td>90</td>\n",
       "      <td>Masters</td>\n",
       "      <td>160</td>\n",
       "      <td>87.0</td>\n",
       "      <td>74</td>\n",
       "    </tr>\n",
       "    <tr>\n",
       "      <th>76</th>\n",
       "      <td>Mohammed</td>\n",
       "      <td>Salim</td>\n",
       "      <td>31</td>\n",
       "      <td>M</td>\n",
       "      <td>Somali</td>\n",
       "      <td>Sognsvann</td>\n",
       "      <td>35</td>\n",
       "      <td>Masters</td>\n",
       "      <td>144</td>\n",
       "      <td>72.0</td>\n",
       "      <td>90</td>\n",
       "    </tr>\n",
       "  </tbody>\n",
       "</table>\n",
       "<p>75 rows × 11 columns</p>\n",
       "</div>"
      ],
      "text/plain": [
       "   first_name second_name  age gender  country_born     residence  \\\n",
       "0   Christina      Binger   44      F        Norway       Private   \n",
       "1        Alex    Walekhwa   60      M         Kenya       Private   \n",
       "2      Philip         Leo   25      M        Uganda     Sognsvann   \n",
       "4       Maria    Kedibone   23      F  South Africa     Sognsvann   \n",
       "5      Hannah      Hansen   25      F         Norge  BI Residence   \n",
       "..        ...         ...  ...    ...           ...           ...   \n",
       "72      Clara     Bernard   43      F        France       Private   \n",
       "73     Julian     Nielsen   31      M       Denmark     Sognsvann   \n",
       "74     Sophie       Brown   33      F            UK     Sognsvann   \n",
       "75       Leon       Bauer   35      M       Germany     Sognsvann   \n",
       "76   Mohammed       Salim   31      M        Somali     Sognsvann   \n",
       "\n",
       "    result_exam    education  study_hours  python_score  DB_score  \n",
       "0            72      Masters          158          59.0        55  \n",
       "1            79      Diploma          150          60.0        75  \n",
       "2            55   HighSchool          130          74.0        50  \n",
       "4            65  High School          122          91.0        80  \n",
       "5            66  High School          130          88.0        59  \n",
       "..          ...          ...          ...           ...       ...  \n",
       "72           80    Bachelors          150          75.0        43  \n",
       "73           90      Masters          158          84.0        83  \n",
       "74           96      Masters          158          85.0        90  \n",
       "75           90      Masters          160          87.0        74  \n",
       "76           35      Masters          144          72.0        90  \n",
       "\n",
       "[75 rows x 11 columns]"
      ]
     },
     "execution_count": 11,
     "metadata": {},
     "output_type": "execute_result"
    }
   ],
   "source": [
    "data"
   ]
  },
  {
   "cell_type": "code",
   "execution_count": 20,
   "id": "c36e189f-dcdb-4cdd-a337-845e9e3099c0",
   "metadata": {},
   "outputs": [],
   "source": [
    "data.residence = data.residence.apply(lambda x: 'BI_Residence' if x.startswith('BI') else x)"
   ]
  },
  {
   "cell_type": "code",
   "execution_count": 26,
   "id": "2ed79819-6070-4253-9a68-25e9d25bb0df",
   "metadata": {},
   "outputs": [],
   "source": [
    "data.country_born = data.country_born.apply(lambda x: 'Norway' if x.startswith('No') or x.startswith('no') else x )"
   ]
  },
  {
   "cell_type": "code",
   "execution_count": 38,
   "id": "74478e74-0de2-475f-8a1b-ea23209bb74c",
   "metadata": {},
   "outputs": [],
   "source": [
    "data.python_score = data.python_score.apply(int)"
   ]
  },
  {
   "cell_type": "code",
   "execution_count": 36,
   "id": "6d6898a7-2623-4f63-8c46-0c211beb639b",
   "metadata": {},
   "outputs": [],
   "source": []
  },
  {
   "cell_type": "code",
   "execution_count": 41,
   "id": "4433583f-8627-4df4-abbf-abfd8d19295a",
   "metadata": {},
   "outputs": [
    {
     "data": {
      "text/plain": [
       "array(['Masters', 'Diploma', 'HighSchool', 'High School', 'Bachelors',\n",
       "       'Barrrchelors', 'diploma', 'DIPLOMA', 'Diplomaaa', 'Doctorate'],\n",
       "      dtype=object)"
      ]
     },
     "execution_count": 41,
     "metadata": {},
     "output_type": "execute_result"
    }
   ],
   "source": [
    "data.education.unique()"
   ]
  },
  {
   "cell_type": "code",
   "execution_count": null,
   "id": "511a3135-207a-4e68-9a8b-0f43ec98ce3f",
   "metadata": {},
   "outputs": [],
   "source": []
  }
 ],
 "metadata": {
  "kernelspec": {
   "display_name": "Python 3 (ipykernel)",
   "language": "python",
   "name": "python3"
  },
  "language_info": {
   "codemirror_mode": {
    "name": "ipython",
    "version": 3
   },
   "file_extension": ".py",
   "mimetype": "text/x-python",
   "name": "python",
   "nbconvert_exporter": "python",
   "pygments_lexer": "ipython3",
   "version": "3.11.7"
  }
 },
 "nbformat": 4,
 "nbformat_minor": 5
}
